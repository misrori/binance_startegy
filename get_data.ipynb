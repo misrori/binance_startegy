{
 "cells": [
  {
   "cell_type": "code",
   "execution_count": 10,
   "metadata": {},
   "outputs": [
    {
     "name": "stderr",
     "output_type": "stream",
     "text": [
      "100%|██████████| 200/200 [40:32<00:00, 12.16s/it]\n"
     ]
    }
   ],
   "source": [
    "from binance import Client\n",
    "import pandas as pd\n",
    "import numpy as np\n",
    "from tqdm import tqdm\n",
    "client = Client()\n",
    "\n",
    "def get_data(symbol, interval='1h', period=\"1000 day ago UTC\"):\n",
    "    try:\n",
    "        klines = pd.DataFrame(client.get_historical_klines(symbol, interval, period))\n",
    "        df = klines.iloc[:,:6]\n",
    "        df.columns = ['date','open','high','low','close','volume']\n",
    "        df['date'] = pd.to_datetime(df['date'], unit='ms')\n",
    "        df['ticker']= symbol\n",
    "        df.reset_index(inplace=True, drop=True)\n",
    "        df.to_csv(f'/home/mihaly/python_codes/binance_data/data/{symbol}_{interval}.csv', index=False)\n",
    "        return None\n",
    "    except:\n",
    "        pass\n",
    "\n",
    "\n",
    "coin_pairs = client.get_all_tickers()\n",
    "usdt_pairs = [pair['symbol'] for pair in coin_pairs if pair['symbol'].endswith('USDT')]\n",
    "crypto_data= list(map(get_data, tqdm(usdt_pairs[:200]) ))\n"
   ]
  },
  {
   "cell_type": "code",
   "execution_count": null,
   "metadata": {},
   "outputs": [],
   "source": []
  }
 ],
 "metadata": {
  "kernelspec": {
   "display_name": "Python 3",
   "language": "python",
   "name": "python3"
  },
  "language_info": {
   "codemirror_mode": {
    "name": "ipython",
    "version": 3
   },
   "file_extension": ".py",
   "mimetype": "text/x-python",
   "name": "python",
   "nbconvert_exporter": "python",
   "pygments_lexer": "ipython3",
   "version": "3.10.12"
  }
 },
 "nbformat": 4,
 "nbformat_minor": 2
}
