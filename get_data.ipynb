{
 "cells": [
  {
   "cell_type": "code",
   "execution_count": 10,
   "metadata": {},
   "outputs": [
    {
     "name": "stderr",
     "output_type": "stream",
     "text": [
      "100%|██████████| 200/200 [40:32<00:00, 12.16s/it]\n"
     ]
    }
   ],
   "source": [
    "from binance import Client\n",
    "import pandas as pd\n",
    "import numpy as np\n",
    "from tqdm import tqdm\n",
    "client = Client()\n",
    "\n",
    "def get_data(symbol, interval='1h', period=\"1000 day ago UTC\"):\n",
    "    try:\n",
    "        klines = pd.DataFrame(client.get_historical_klines(symbol, interval, period))\n",
    "        df = klines.iloc[:,:6]\n",
    "        df.columns = ['date','open','high','low','close','volume']\n",
    "        df['date'] = pd.to_datetime(df['date'], unit='ms')\n",
    "        df['ticker']= symbol\n",
    "        df.reset_index(inplace=True, drop=True)\n",
    "        df.to_csv(f'/home/mihaly/python_codes/binance_data/data/{symbol}_{interval}.csv', index=False)\n",
    "        return None\n",
    "    except:\n",
    "        pass\n",
    "\n",
    "\n",
    "coin_pairs = client.get_all_tickers()\n",
    "usdt_pairs = [pair['symbol'] for pair in coin_pairs if pair['symbol'].endswith('USDT')]\n",
    "crypto_data= list(map(get_data, tqdm(usdt_pairs[:200]) ))\n"
   ]
  },
  {
   "cell_type": "code",
   "execution_count": 7,
   "metadata": {},
   "outputs": [
    {
     "name": "stderr",
     "output_type": "stream",
     "text": [
      "100%|██████████| 2/2 [00:01<00:00,  1.49it/s]\n"
     ]
    }
   ],
   "source": [
    "coin_pairs = client.get_all_tickers()\n",
    "usdt_pairs = [pair['symbol'] for pair in coin_pairs if pair['symbol'].endswith('USDT')]\n",
    "crypto_data= list(map(get_data, tqdm(usdt_pairs[:200]) ))\n"
   ]
  },
  {
   "cell_type": "code",
   "execution_count": null,
   "metadata": {},
   "outputs": [],
   "source": [
    "df = get_data('BTCUSDT')\n",
    "df"
   ]
  },
  {
   "cell_type": "code",
   "execution_count": null,
   "metadata": {},
   "outputs": [],
   "source": [
    "coin_pairs = client.get_all_tickers()\n",
    "usdt_pairs = [pair for pair in coin_pairs if pair['symbol'].endswith('USDT')]\n",
    "crypto_data= list(map(get_data, usdt_pairs[:200] ))"
   ]
  },
  {
   "cell_type": "code",
   "execution_count": null,
   "metadata": {},
   "outputs": [],
   "source": [
    "crypto_data= list(map(get_data, usdt_pairs[:200]))"
   ]
  },
  {
   "cell_type": "code",
   "execution_count": null,
   "metadata": {},
   "outputs": [],
   "source": []
  },
  {
   "cell_type": "code",
   "execution_count": null,
   "metadata": {},
   "outputs": [],
   "source": []
  },
  {
   "cell_type": "code",
   "execution_count": null,
   "metadata": {},
   "outputs": [],
   "source": [
    "volumes = []\n",
    "for pair in usdt_pairs:\n",
    "    volume = client.get_ticker(symbol=pair['symbol'])\n",
    "    volumes.append(volume)"
   ]
  },
  {
   "cell_type": "code",
   "execution_count": null,
   "metadata": {},
   "outputs": [],
   "source": [
    "client.get_ticker(symbol='BTCUSDT')"
   ]
  },
  {
   "cell_type": "code",
   "execution_count": null,
   "metadata": {},
   "outputs": [],
   "source": [
    "def get_data(symbol, interval, period):\n",
    "\n",
    "    klines = client.get_historical_klines(symbol, interval, period)\n",
    "\n",
    "    x = pd.DataFrame(klines, columns=[\"Open time\", \"Open\", \"High\", \"Low\", \"Close\", \"Volume\", \"Close time\",\n",
    "                                       \"Quote asset volume\", \"Number of trades\", \"Taker buy base asset volume\",\n",
    "                                       \"Taker buy quote asset volume\", \"Ignore\"])\n",
    "\n",
    "    x = x[[\"Open time\", \"Open\", \"High\", \"Low\", \"Close\", \"Volume\", \"Close time\"]]\n",
    "    x.columns = x.columns.str.lower()\n",
    "    x['close time'] = pd.to_datetime(x['close time'], unit='ms')\n",
    "    x['close time'] = x['close time'].dt.strftime('%Y-%m-%d %H:%M:%S')\n",
    "    x['open time'] = pd.to_datetime(x['open time'], unit='ms')\n",
    "    x['open time'] = x['open time'].dt.strftime('%Y-%m-%d %H:%M:%S')\n",
    "    x['open'] = pd.to_numeric(x['open'])\n",
    "    x['high'] = pd.to_numeric(x['high'])\n",
    "    x['low'] = pd.to_numeric(x['low'])\n",
    "    x['close'] = pd.to_numeric(x['close'])\n",
    "    x['open time'] = pd.to_datetime(x['open time'])\n",
    "    x['close time'] = pd.to_datetime(x['close time'])\n",
    "    x.insert(column='crypto', value=symbol, loc=0)\n",
    "\n",
    "    return x"
   ]
  },
  {
   "cell_type": "code",
   "execution_count": null,
   "metadata": {},
   "outputs": [],
   "source": [
    "af = get_data(, \"15m\", \"200 day ago UTC\")\n"
   ]
  },
  {
   "cell_type": "code",
   "execution_count": null,
   "metadata": {},
   "outputs": [],
   "source": []
  }
 ],
 "metadata": {
  "kernelspec": {
   "display_name": "Python 3",
   "language": "python",
   "name": "python3"
  },
  "language_info": {
   "codemirror_mode": {
    "name": "ipython",
    "version": 3
   },
   "file_extension": ".py",
   "mimetype": "text/x-python",
   "name": "python",
   "nbconvert_exporter": "python",
   "pygments_lexer": "ipython3",
   "version": "3.10.12"
  }
 },
 "nbformat": 4,
 "nbformat_minor": 2
}
